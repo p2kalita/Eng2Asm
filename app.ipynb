{
 "cells": [
  {
   "cell_type": "code",
   "execution_count": null,
   "metadata": {},
   "outputs": [],
   "source": [
    "import streamlit as st\n",
    "from PyPDF2 import PdfReader\n",
    "import os\n",
    "from langchain_google_genai import GoogleGenerativeAIEmbeddings\n",
    "import google.generativeai as genai\n",
    "from langchain_google_genai import ChatGoogleGenerativeAI\n",
    "from langchain.prompts import PromptTemplate\n",
    "from dotenv import load_dotenv"
   ]
  },
  {
   "cell_type": "code",
   "execution_count": 8,
   "metadata": {},
   "outputs": [],
   "source": [
    "load_dotenv()\n",
    "\n",
    "os.environ[\"GOOGLE_API_KEY\"] = os.getenv(\"GOOGLE_API_KEY\")\n",
    "\n",
    "# LangSmith Tracking and Tracing\n",
    "\n",
    "os.environ[\"LANGCHAIN_API_KEY\"] = os.getenv(\"LANGCHAIN_API_KEY\")\n",
    "os.environ[\"LANGCHAIN_TRACING_V2\"] = \"true\"\n",
    "os.environ[\"LANGCHAIN_PROJECT\"] = os.getenv(\"LANGCHAIN_PROJECT\")"
   ]
  },
  {
   "cell_type": "code",
   "execution_count": 17,
   "metadata": {},
   "outputs": [
    {
     "data": {
      "text/plain": [
       "ChatGoogleGenerativeAI(model='models/gemini-2.0-flash', google_api_key=SecretStr('**********'), temperature=0.1, max_output_tokens=100, client=<google.ai.generativelanguage_v1beta.services.generative_service.client.GenerativeServiceClient object at 0x000001F476B31CD0>, default_metadata=())"
      ]
     },
     "execution_count": 17,
     "metadata": {},
     "output_type": "execute_result"
    }
   ],
   "source": [
    "from langchain_google_genai import ChatGoogleGenerativeAI\n",
    "model=ChatGoogleGenerativeAI(model=\"gemini-2.0-flash\", temperature=0.1, max_tokens=100)\n",
    "model"
   ]
  },
  {
   "cell_type": "code",
   "execution_count": 13,
   "metadata": {},
   "outputs": [
    {
     "name": "stdout",
     "output_type": "stream",
     "text": [
      "content=\"Agentic AI refers to **artificial intelligence systems that can act autonomously to achieve specific goals.** These systems aren't just passive responders to commands; they can:\\n\\n*   **Perceive their environment:** They can gather information through sensors, APIs, or other means.\\n*   **Plan and reason:** They can analyze information, set objectives, and create strategies to achieve those objectives.\\n*   **Act:** They can execute actions in the real world or digital world, such as making decisions, controlling devices, or interacting with other systems.\\n*   **Learn and adapt:** They can learn from their experiences and adjust their strategies to improve their performance over time.\\n\\nHere's a breakdown of key aspects:\\n\\n*   **Autonomy:** This is the defining characteristic. Agentic AI systems operate with a degree of independence, making decisions and taking actions without constant human intervention. The degree of autonomy can vary.\\n*   **Goal-oriented:** They are designed to achieve specific goals, which can range from simple tasks to complex objectives.\\n*   **Perception and Action:**  They can perceive their environment and take actions within it.\\n*   **Reasoning and Planning:** They can reason about their environment, plan actions, and adapt those plans as needed.\\n*   **Learning:** Many agentic AI systems incorporate learning mechanisms, allowing them to improve their performance over time.\\n\\n**Examples of Agentic AI:**\\n\\n*   **Self-driving cars:** These systems perceive their surroundings, plan routes, and control the vehicle to reach a destination.\\n*   **Robotic process automation (RPA):** Advanced RPA systems can automate complex business processes by making decisions and interacting with various software applications.\\n*   **AI-powered personal assistants:** Systems like Siri, Alexa, and Google Assistant can perform tasks, provide information, and manage schedules based on user requests.  (While their autonomy is limited, they are evolving towards more agentic behavior.)\\n*   **Game-playing AI:** AI agents that can play games like Go or chess at a superhuman level.  They analyze the game state, plan moves, and adapt their strategy based on the opponent's actions.\\n*   **Supply chain optimization systems:**  AI agents that can analyze supply chain data, identify bottlenecks, and make decisions to optimize inventory levels and delivery schedules.\\n*   **AI-powered trading bots:**  Systems that automatically execute trades based on market conditions and pre-defined strategies.\\n\\n**Key Technologies Behind Agentic AI:**\\n\\n*   **Large Language Models (LLMs):**  Provide the reasoning and planning capabilities to Agentic AI.\\n*   **Reinforcement Learning:**  Allows agents to learn through trial and error.\\n*   **Planning Algorithms:** Used to create and optimize plans for achieving goals.\\n*   **Computer Vision:** Enables agents to perceive their environment through images and videos.\\n*   **Natural Language Processing (NLP):** Allows agents to understand and communicate in human language.\\n\\n**Why is Agentic AI Important?**\\n\\nAgentic AI has the potential to:\\n\\n*   **Automate complex tasks:**  Freeing up human workers to focus on more creative and strategic activities.\\n*   **Improve efficiency and productivity:**  By optimizing processes and making better decisions.\\n*   **Solve complex problems:**  By analyzing large amounts of data and identifying patterns that humans might miss.\\n*   **Create new products and services:**  By enabling new forms of automation and interaction.\\n\\n**Challenges of Agentic AI:**\\n\\n*   **Safety and reliability:**  Ensuring that agentic AI systems behave predictably and safely.\\n*   **Explainability and transparency:**  Understanding how agentic AI systems make decisions.\\n*   **Bias and fairness:**  Preventing agentic AI systems from perpetuating or amplifying existing biases.\\n*   **Ethical considerations:**  Addressing the ethical implications of autonomous systems.\\n\\nIn summary, Agentic AI represents a significant advancement in AI, moving beyond simple automation to systems that can reason, plan, and act independently to achieve specific goals.  It holds immense promise for various applications, but also poses significant challenges that need to be addressed.\" additional_kwargs={} response_metadata={'prompt_feedback': {'block_reason': 0, 'safety_ratings': []}, 'finish_reason': 'STOP', 'safety_ratings': []} id='run-1d8150d3-0bc3-4649-975d-92bbb7336895-0' usage_metadata={'input_tokens': 6, 'output_tokens': 859, 'total_tokens': 865, 'input_token_details': {'cache_read': 0}}\n"
     ]
    }
   ],
   "source": [
    "result=model.invoke(\"What is agenticAi?\")\n",
    "print(result)"
   ]
  },
  {
   "cell_type": "code",
   "execution_count": 16,
   "metadata": {},
   "outputs": [
    {
     "name": "stdout",
     "output_type": "stream",
     "text": [
      "Agentic AI refers to **artificial intelligence systems that can act autonomously to achieve specific goals.** These systems aren't just passive responders to commands; they can:\n",
      "\n",
      "*   **Perceive their environment:** They can gather information through sensors, APIs, or other means.\n",
      "*   **Plan and reason:** They can analyze information, set objectives, and create strategies to achieve those objectives.\n",
      "*   **Act:** They can execute actions in the real world or digital world, such as making decisions, controlling devices, or interacting with other systems.\n",
      "*   **Learn and adapt:** They can learn from their experiences and adjust their strategies to improve their performance over time.\n",
      "\n",
      "Here's a breakdown of key aspects:\n",
      "\n",
      "*   **Autonomy:** This is the defining characteristic. Agentic AI systems operate with a degree of independence, making decisions and taking actions without constant human intervention. The degree of autonomy can vary.\n",
      "*   **Goal-oriented:** They are designed to achieve specific goals, which can range from simple tasks to complex objectives.\n",
      "*   **Perception and Action:**  They can perceive their environment and take actions within it.\n",
      "*   **Reasoning and Planning:** They can reason about their environment, plan actions, and adapt those plans as needed.\n",
      "*   **Learning:** Many agentic AI systems incorporate learning mechanisms, allowing them to improve their performance over time.\n",
      "\n",
      "**Examples of Agentic AI:**\n",
      "\n",
      "*   **Self-driving cars:** These systems perceive their surroundings, plan routes, and control the vehicle to reach a destination.\n",
      "*   **Robotic process automation (RPA):** Advanced RPA systems can automate complex business processes by making decisions and interacting with various software applications.\n",
      "*   **AI-powered personal assistants:** Systems like Siri, Alexa, and Google Assistant can perform tasks, provide information, and manage schedules based on user requests.  (While their autonomy is limited, they are evolving towards more agentic behavior.)\n",
      "*   **Game-playing AI:** AI agents that can play games like Go or chess at a superhuman level.  They analyze the game state, plan moves, and adapt their strategy based on the opponent's actions.\n",
      "*   **Supply chain optimization systems:**  AI agents that can analyze supply chain data, identify bottlenecks, and make decisions to optimize inventory levels and delivery schedules.\n",
      "*   **AI-powered trading bots:**  Systems that automatically execute trades based on market conditions and pre-defined strategies.\n",
      "\n",
      "**Key Technologies Behind Agentic AI:**\n",
      "\n",
      "*   **Large Language Models (LLMs):**  Provide the reasoning and planning capabilities to Agentic AI.\n",
      "*   **Reinforcement Learning:**  Allows agents to learn through trial and error.\n",
      "*   **Planning Algorithms:** Used to create and optimize plans for achieving goals.\n",
      "*   **Computer Vision:** Enables agents to perceive their environment through images and videos.\n",
      "*   **Natural Language Processing (NLP):** Allows agents to understand and communicate in human language.\n",
      "\n",
      "**Why is Agentic AI Important?**\n",
      "\n",
      "Agentic AI has the potential to:\n",
      "\n",
      "*   **Automate complex tasks:**  Freeing up human workers to focus on more creative and strategic activities.\n",
      "*   **Improve efficiency and productivity:**  By optimizing processes and making better decisions.\n",
      "*   **Solve complex problems:**  By analyzing large amounts of data and identifying patterns that humans might miss.\n",
      "*   **Create new products and services:**  By enabling new forms of automation and interaction.\n",
      "\n",
      "**Challenges of Agentic AI:**\n",
      "\n",
      "*   **Safety and reliability:**  Ensuring that agentic AI systems behave predictably and safely.\n",
      "*   **Explainability and transparency:**  Understanding how agentic AI systems make decisions.\n",
      "*   **Bias and fairness:**  Preventing agentic AI systems from perpetuating or amplifying existing biases.\n",
      "*   **Ethical considerations:**  Addressing the ethical implications of autonomous systems.\n",
      "\n",
      "In summary, Agentic AI represents a significant advancement in AI, moving beyond simple automation to systems that can reason, plan, and act independently to achieve specific goals.  It holds immense promise for various applications, but also poses significant challenges that need to be addressed.\n"
     ]
    }
   ],
   "source": [
    "print(result.content)"
   ]
  },
  {
   "cell_type": "code",
   "execution_count": 22,
   "metadata": {},
   "outputs": [
    {
     "data": {
      "text/plain": [
       "ChatPromptTemplate(input_variables=['input'], input_types={}, partial_variables={}, messages=[SystemMessagePromptTemplate(prompt=PromptTemplate(input_variables=[], input_types={}, partial_variables={}, template=\" \\n            You are an expert Assamese to English transliterator app. Any input you get you are suppose to transliterate it to English. \\n            Sample input: ['কুসুম']\\n            Sample output: ['Kusum']\\n            \\n            \"), additional_kwargs={}), HumanMessagePromptTemplate(prompt=PromptTemplate(input_variables=['input'], input_types={}, partial_variables={}, template='{input}'), additional_kwargs={})])"
      ]
     },
     "execution_count": 22,
     "metadata": {},
     "output_type": "execute_result"
    }
   ],
   "source": [
    "from langchain_core.prompts import ChatPromptTemplate\n",
    "\n",
    "prompt=ChatPromptTemplate.from_messages(\n",
    "    [\n",
    "        (\"system\",\n",
    "            \"\"\" \n",
    "            You are an expert Assamese to English transliterator app. Any input you get you are suppose to transliterate it to English. \n",
    "            Sample input: ['কুসুম']\n",
    "            Sample output: ['Kusum']\n",
    "            \n",
    "            \"\"\"),\n",
    "        (\"user\",\"{input}\")\n",
    "    ]\n",
    "\n",
    ")\n",
    "prompt\n"
   ]
  },
  {
   "cell_type": "code",
   "execution_count": 24,
   "metadata": {},
   "outputs": [
    {
     "name": "stdout",
     "output_type": "stream",
     "text": [
      "[\"['Kanak'\", \"'Kusum'\", \"'Mukul']\"]\n"
     ]
    }
   ],
   "source": [
    "from langchain.output_parsers import CommaSeparatedListOutputParser\n",
    "\n",
    "output_parser = CommaSeparatedListOutputParser()\n",
    "\n",
    "chain=prompt | model | output_parser\n",
    "\n",
    "response=chain.invoke({\"input\":\"কনক , কুসুম , মুকুল\"})\n",
    "\n",
    "print(response)"
   ]
  }
 ],
 "metadata": {
  "kernelspec": {
   "display_name": "Python 3",
   "language": "python",
   "name": "python3"
  },
  "language_info": {
   "codemirror_mode": {
    "name": "ipython",
    "version": 3
   },
   "file_extension": ".py",
   "mimetype": "text/x-python",
   "name": "python",
   "nbconvert_exporter": "python",
   "pygments_lexer": "ipython3",
   "version": "3.11.11"
  }
 },
 "nbformat": 4,
 "nbformat_minor": 2
}
